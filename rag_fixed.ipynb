{
  "nbformat": 4,
  "nbformat_minor": 0,
  "metadata": {
    "colab": {
      "provenance": []
    },
    "kernelspec": {
      "name": "python3",
      "display_name": "Python 3"
    },
    "language_info": {
      "name": "python"
    }
  },
  "cells": [
    {
      "cell_type": "markdown",
      "source": [
        "# **Environments**"
      ],
      "metadata": {
        "id": "7XgUTEQAU_8a"
      }
    },
    {
      "cell_type": "code",
      "execution_count": null,
      "metadata": {
        "id": "7KszgHVQNS-o",
        "colab": {
          "base_uri": "https://localhost:8080/"
        },
        "outputId": "4fd406f5-a534-454f-d7b0-b0606ef47f6e"
      },
      "outputs": [
        {
          "output_type": "stream",
          "name": "stdout",
          "text": [
            "\u001b[2K     \u001b[90m━━━━━━━━━━━━━━━━━━━━━━━━━━━━━━━━━━━━━━━━\u001b[0m \u001b[32m43.7/43.7 kB\u001b[0m \u001b[31m3.4 MB/s\u001b[0m eta \u001b[36m0:00:00\u001b[0m\n",
            "\u001b[2K   \u001b[90m━━━━━━━━━━━━━━━━━━━━━━━━━━━━━━━━━━━━━━━━\u001b[0m \u001b[32m2.5/2.5 MB\u001b[0m \u001b[31m32.8 MB/s\u001b[0m eta \u001b[36m0:00:00\u001b[0m\n",
            "\u001b[2K   \u001b[90m━━━━━━━━━━━━━━━━━━━━━━━━━━━━━━━━━━━━━━━━\u001b[0m \u001b[32m152.4/152.4 kB\u001b[0m \u001b[31m10.5 MB/s\u001b[0m eta \u001b[36m0:00:00\u001b[0m\n",
            "\u001b[2K   \u001b[90m━━━━━━━━━━━━━━━━━━━━━━━━━━━━━━━━━━━━━━━━\u001b[0m \u001b[32m43.8/43.8 kB\u001b[0m \u001b[31m2.9 MB/s\u001b[0m eta \u001b[36m0:00:00\u001b[0m\n",
            "\u001b[2K   \u001b[90m━━━━━━━━━━━━━━━━━━━━━━━━━━━━━━━━━━━━━━━━\u001b[0m \u001b[32m50.0/50.0 kB\u001b[0m \u001b[31m3.7 MB/s\u001b[0m eta \u001b[36m0:00:00\u001b[0m\n",
            "\u001b[2K   \u001b[90m━━━━━━━━━━━━━━━━━━━━━━━━━━━━━━━━━━━━━━━━\u001b[0m \u001b[32m45.2/45.2 kB\u001b[0m \u001b[31m3.1 MB/s\u001b[0m eta \u001b[36m0:00:00\u001b[0m\n",
            "\u001b[2K   \u001b[90m━━━━━━━━━━━━━━━━━━━━━━━━━━━━━━━━━━━━━━━━\u001b[0m \u001b[32m50.9/50.9 kB\u001b[0m \u001b[31m3.7 MB/s\u001b[0m eta \u001b[36m0:00:00\u001b[0m\n",
            "\u001b[2K   \u001b[90m━━━━━━━━━━━━━━━━━━━━━━━━━━━━━━━━━━━━━━━━\u001b[0m \u001b[32m216.5/216.5 kB\u001b[0m \u001b[31m13.3 MB/s\u001b[0m eta \u001b[36m0:00:00\u001b[0m\n",
            "\u001b[?25h"
          ]
        }
      ],
      "source": [
        "!pip install --quiet --upgrade langchain-text-splitters langchain-community langgraph"
      ]
    },
    {
      "cell_type": "code",
      "source": [
        "import os\n",
        "import getpass\n",
        "\n",
        "os.environ[\"LANGSMITH_TRACING\"] = \"true\"\n",
        "os.environ[\"LANGSMITH_API_KEY\"] = getpass.getpass()"
      ],
      "metadata": {
        "colab": {
          "base_uri": "https://localhost:8080/"
        },
        "id": "D1_rfInrTI7W",
        "outputId": "3092075b-7892-4679-882d-5c5cbd5caac9"
      },
      "execution_count": null,
      "outputs": [
        {
          "name": "stdout",
          "output_type": "stream",
          "text": [
            "··········\n"
          ]
        }
      ]
    },
    {
      "cell_type": "code",
      "source": [
        "!pip install -qU \"langchain[groq]\""
      ],
      "metadata": {
        "colab": {
          "base_uri": "https://localhost:8080/"
        },
        "id": "UWkIUZubTJb5",
        "outputId": "a7d25470-be40-4e21-8299-af436f06443f"
      },
      "execution_count": null,
      "outputs": [
        {
          "output_type": "stream",
          "name": "stdout",
          "text": [
            "\u001b[?25l   \u001b[90m━━━━━━━━━━━━━━━━━━━━━━━━━━━━━━━━━━━━━━━━\u001b[0m \u001b[32m0.0/130.8 kB\u001b[0m \u001b[31m?\u001b[0m eta \u001b[36m-:--:--\u001b[0m\r\u001b[2K   \u001b[90m━━━━━━━━━━━━━━━━━━━━━━━━━━━━━━━━━━━━━━━━\u001b[0m \u001b[32m130.8/130.8 kB\u001b[0m \u001b[31m4.0 MB/s\u001b[0m eta \u001b[36m0:00:00\u001b[0m\n",
            "\u001b[?25h"
          ]
        }
      ]
    },
    {
      "cell_type": "code",
      "source": [
        "if not os.environ.get(\"GROQ_API_KEY\"):\n",
        "  os.environ[\"GROQ_API_KEY\"] = getpass.getpass(\"Enter API key for GROQ: \")\n",
        "\n",
        "from langchain.chat_models import init_chat_model\n",
        "\n",
        "llm = init_chat_model(\"llama3-8b-8192\", model_provider=\"groq\")"
      ],
      "metadata": {
        "colab": {
          "base_uri": "https://localhost:8080/"
        },
        "id": "IbeKodEuTKBq",
        "outputId": "411ba46d-365f-4919-97bd-1660f9cec475"
      },
      "execution_count": null,
      "outputs": [
        {
          "name": "stdout",
          "output_type": "stream",
          "text": [
            "Enter API key for GROQ: ··········\n"
          ]
        }
      ]
    },
    {
      "cell_type": "code",
      "source": [
        "!pip install -qU langchain-huggingface"
      ],
      "metadata": {
        "id": "eMxi9h_Wbfbl"
      },
      "execution_count": null,
      "outputs": []
    },
    {
      "cell_type": "code",
      "source": [
        "from langchain_huggingface import HuggingFaceEmbeddings\n",
        "\n",
        "embeddings = HuggingFaceEmbeddings(model_name=\"sentence-transformers/all-mpnet-base-v2\")"
      ],
      "metadata": {
        "colab": {
          "base_uri": "https://localhost:8080/",
          "height": 369,
          "referenced_widgets": [
            "5bd0d334321544788405e2191717f26f",
            "4627cedf2738480f9f436f647122dd76",
            "34fe6b822ad44eee8c24ec398d2b6f7c",
            "6ce181bf7b0c4b80b6bcaaba81ca081c",
            "488872401e51492d83b9338a25b77e3f",
            "4020e43b551d41b9b9077492c2732605",
            "15191e0da2a9415390cd78d5f1b4f180",
            "c3f8d50ace1d41fb9e012072433d85c9",
            "26004cb0ffe646ada699578109e20c78",
            "f2ad5528f8a74a379627e3154b83258e",
            "14d3abb387384f859a5368cd3d23f79a",
            "a0e2198bdc104c1d9deaa604308afd56",
            "4bf76045dc32481fac36f4589786a07f",
            "c47a3be6df0443aaaf93df42e19633b6",
            "67c1254e7ffc4c1099a410f6cef7acd3",
            "9a13f1654f154b4a9d6e1f3cc072a721",
            "57731cb8b5fe4db2a4704580488dc2e8",
            "c22d60ab80894157a06644392a14624a",
            "a62bb49ee77545e0ab5e8913c3c6cabf",
            "6cd20f8c4b634001baad5e76439dbe07",
            "92a86fe47eec49159f3cd0bad522f598",
            "98ec4fd049b4455d862bc9eb7fdd0c16",
            "2b178128789b40ee9d83a6bbc698f593",
            "08263f7c8b224330b20ecd17f4f62404",
            "cd182956f5b646ada36b3a9ffe7e3e1c",
            "2af39eebe0d14dacbe1a2bd302d6b2ed",
            "fbde52db328c48819e984646aadc7eb2",
            "90c831128c37435eb28337cc27014f94",
            "20f8d9da5c0a41b29a1f26c43a0bcfef",
            "53102b70906b495f982cdec5cb328bc1",
            "2586ec0e13f04013a67f0f7d667121f7",
            "a5e9d4a8b3e54a30b4af0cc15627a70a",
            "399701e05d15454daee8fff148cbbe0a",
            "c59baeb824314e2db41971cb210956f1",
            "a06121f97e154c7092e1d831deebd78f",
            "91efd9eae76d4f2c9495de24036d110f",
            "fc4d92d357824fdabe500ce759ab87f4",
            "8d928aa2c2f6446a9294cf424928e240",
            "3fbd0499202a4e48abb6d95d31c75e66",
            "6b5f18c55d3d40d08305a4738224395d",
            "b51cfbdf8d7d4c1ca9b6afc9fc1ff16d",
            "0f191d0a2f134a419fc124b5f337f8bb",
            "4b30f354f6924cbaab929d9e74ece971",
            "827d814c48e94be78c889aba7a539000",
            "595cb444b2564c59bbaadc8a5434c5d4",
            "a002de657b0d402f94e0a2fe8f22acce",
            "3c8243d351d54deda51f4b90d5124456",
            "91f739cdd9d94ec68038767539f90149",
            "a5ac3c3cb9774b8d866f4efa9529dd81",
            "ea5a3287e6194360976b43114acf75e1",
            "e167bdd9a0654eb282f62987f78d1479",
            "6b788f300dac4d41a75dbb5fd8797dcf",
            "1395afdbd22d4e5199d23ff249c5061d",
            "653d3ba306114de193d2ae2fae6df5a9",
            "895b5d6474c54a6f833a8cfe7316d580",
            "30577d4e36284df781129dad5c71697b",
            "9b55e6f321fa4d828d8ad0650b0de27b",
            "1a560652a60e47ea81987298c9609db2",
            "c046fec9ac864f38b5fa0fe5934eb488",
            "4f7e35196e2e450e861c35cfdee85e4e",
            "c811d38e0ecb4a0ab0b122aad893a1fc",
            "38fe2750169e46acb864d1a627a55f19",
            "d7e433bad8dc413ea2da739eade6148f",
            "f33d7fece9b9470fa723326f031d5319",
            "e38882a9e0184952860ae72e61757607",
            "011016376e9c446e80d1c3fcf4ed7a3d",
            "f1f5564a5d564f55b4ae48b1d73ecb44",
            "1db54430282d408c89808c436c467eb8",
            "fa07f50583694613b511157f934826af",
            "48cd6dd32ef642f4b66ac829185139ba",
            "560cc94f687943008f209fb07aeb3479",
            "10252789b082423ea55b4902da87bde2",
            "b51e3737205f424e8981d3084b8756c2",
            "abf2a2179dcd40c89c0b2ccc497a4014",
            "dd1dff6e4b154f7aa00d2aeb7cc3493d",
            "d4d1e442767f46f6a53d939230146932",
            "537d091f7a7f42559674f1439a67f2f5",
            "c815f75801594bd9a0d646a5eea26a21",
            "e15b31c1bb374907aecf507f98c6c97d",
            "e63e6279e8354aa28694004d12e13198",
            "8d8de1499bc84be9b4e8301587c6d371",
            "99f37b0ea7544182a6661f239dea9d50",
            "3b8973edf492428eaf56c2e148a3f8fe",
            "baa3a9b80da4456e85287d04b9efe97d",
            "4ce0f95e487e497e8168eae6e2091c25",
            "53bbce51f2a64ff5aba1942ac183192d",
            "4c4eaf765fe448d8b288fdafe1bb34de",
            "5148e06a71c84126adf3f963d13f78f7",
            "55d895b730ab4ba0a7aabfdf0220e943",
            "3b4bc6123373434a92810594aa2075f0",
            "24294369aa254a75893c0eebfcf943a2",
            "de970740364240829995f864204db94b",
            "9fc7541345fe45529d17a453bbf80d41",
            "655afbdd2d794cf78919616f2790613d",
            "6bd27d9519924b44a505438e3db2e15f",
            "6150853e7a614091acdf671c7055b92e",
            "64ccb999042a473c96c1445ee8043a1f",
            "430af3dc8a064a268f5c5f49a7d0062b",
            "04a3d6e8100747ecb3326ebebf22548c",
            "e109a9bf5727436988752f88f3f5632b",
            "cc2e6bf2887949628c682a0cb69aabe3",
            "d121dbd69e0d4a67b9f2ff1f24d115f3",
            "bf9b16c6611e4e2193ae870f7b78be9d",
            "2ff9478e84db429eba59a399175e0dd8",
            "cc4c047cd3c844d0b1fc6ac3b020c3e1",
            "06eea872dace472d8ed645a33a059d17",
            "ac110be8a25f4bbd8dfa96a06d9a66e9",
            "e986a6791d2c44868f45c14d7fbbbd37",
            "682ddb5c10a64633a25dd5dd260235e4",
            "76781799eb864777bd8da6cb495db1a8",
            "d10d718196a94f9eabaa9986802050b5",
            "b98c2f9656074763ad08c048d85f2629",
            "d1004af8d07a453b992e42ab08b3a3b4",
            "7e769a34a451490caf2e491875b0afe2",
            "60ae184060a24296b43d3c21edc2b3d3",
            "b4eee55a661042d7be01e9599ef0a889",
            "a701b05def4e4872b0865439b341a68e",
            "8fab9d823fdb4632b290e01dc0e70fa3",
            "9cd4c4d7ed774c72bee516066ff6cb73",
            "92ebccc39b6c4b5dbdfbf4206b96e1d4",
            "7cbe1f39dba04f2a983e2a954910c64c"
          ]
        },
        "id": "TvpiVXzsbiYa",
        "outputId": "2f98e301-f71b-44a3-b44e-1cacd9154fb6"
      },
      "execution_count": null,
      "outputs": [
        {
          "output_type": "display_data",
          "data": {
            "text/plain": [
              "modules.json:   0%|          | 0.00/349 [00:00<?, ?B/s]"
            ],
            "application/vnd.jupyter.widget-view+json": {
              "version_major": 2,
              "version_minor": 0,
              "model_id": "5bd0d334321544788405e2191717f26f"
            }
          },
          "metadata": {}
        },
        {
          "output_type": "display_data",
          "data": {
            "text/plain": [
              "config_sentence_transformers.json:   0%|          | 0.00/116 [00:00<?, ?B/s]"
            ],
            "application/vnd.jupyter.widget-view+json": {
              "version_major": 2,
              "version_minor": 0,
              "model_id": "a0e2198bdc104c1d9deaa604308afd56"
            }
          },
          "metadata": {}
        },
        {
          "output_type": "display_data",
          "data": {
            "text/plain": [
              "README.md: 0.00B [00:00, ?B/s]"
            ],
            "application/vnd.jupyter.widget-view+json": {
              "version_major": 2,
              "version_minor": 0,
              "model_id": "2b178128789b40ee9d83a6bbc698f593"
            }
          },
          "metadata": {}
        },
        {
          "output_type": "display_data",
          "data": {
            "text/plain": [
              "sentence_bert_config.json:   0%|          | 0.00/53.0 [00:00<?, ?B/s]"
            ],
            "application/vnd.jupyter.widget-view+json": {
              "version_major": 2,
              "version_minor": 0,
              "model_id": "c59baeb824314e2db41971cb210956f1"
            }
          },
          "metadata": {}
        },
        {
          "output_type": "display_data",
          "data": {
            "text/plain": [
              "config.json:   0%|          | 0.00/571 [00:00<?, ?B/s]"
            ],
            "application/vnd.jupyter.widget-view+json": {
              "version_major": 2,
              "version_minor": 0,
              "model_id": "595cb444b2564c59bbaadc8a5434c5d4"
            }
          },
          "metadata": {}
        },
        {
          "output_type": "display_data",
          "data": {
            "text/plain": [
              "model.safetensors:   0%|          | 0.00/438M [00:00<?, ?B/s]"
            ],
            "application/vnd.jupyter.widget-view+json": {
              "version_major": 2,
              "version_minor": 0,
              "model_id": "30577d4e36284df781129dad5c71697b"
            }
          },
          "metadata": {}
        },
        {
          "output_type": "display_data",
          "data": {
            "text/plain": [
              "tokenizer_config.json:   0%|          | 0.00/363 [00:00<?, ?B/s]"
            ],
            "application/vnd.jupyter.widget-view+json": {
              "version_major": 2,
              "version_minor": 0,
              "model_id": "f1f5564a5d564f55b4ae48b1d73ecb44"
            }
          },
          "metadata": {}
        },
        {
          "output_type": "display_data",
          "data": {
            "text/plain": [
              "vocab.txt: 0.00B [00:00, ?B/s]"
            ],
            "application/vnd.jupyter.widget-view+json": {
              "version_major": 2,
              "version_minor": 0,
              "model_id": "c815f75801594bd9a0d646a5eea26a21"
            }
          },
          "metadata": {}
        },
        {
          "output_type": "display_data",
          "data": {
            "text/plain": [
              "tokenizer.json: 0.00B [00:00, ?B/s]"
            ],
            "application/vnd.jupyter.widget-view+json": {
              "version_major": 2,
              "version_minor": 0,
              "model_id": "55d895b730ab4ba0a7aabfdf0220e943"
            }
          },
          "metadata": {}
        },
        {
          "output_type": "display_data",
          "data": {
            "text/plain": [
              "special_tokens_map.json:   0%|          | 0.00/239 [00:00<?, ?B/s]"
            ],
            "application/vnd.jupyter.widget-view+json": {
              "version_major": 2,
              "version_minor": 0,
              "model_id": "e109a9bf5727436988752f88f3f5632b"
            }
          },
          "metadata": {}
        },
        {
          "output_type": "display_data",
          "data": {
            "text/plain": [
              "config.json:   0%|          | 0.00/190 [00:00<?, ?B/s]"
            ],
            "application/vnd.jupyter.widget-view+json": {
              "version_major": 2,
              "version_minor": 0,
              "model_id": "d10d718196a94f9eabaa9986802050b5"
            }
          },
          "metadata": {}
        }
      ]
    },
    {
      "cell_type": "code",
      "source": [
        "!pip install -qU langchain-core"
      ],
      "metadata": {
        "id": "MAKUiQLwc8Ai"
      },
      "execution_count": null,
      "outputs": []
    },
    {
      "cell_type": "code",
      "source": [
        "from langchain_core.vectorstores import InMemoryVectorStore\n",
        "\n",
        "vector_store = InMemoryVectorStore(embeddings)"
      ],
      "metadata": {
        "id": "7s2zxNhmdBd6"
      },
      "execution_count": null,
      "outputs": []
    },
    {
      "cell_type": "markdown",
      "source": [
        "The content that is used here is this blog post. https://lilianweng.github.io/posts/2023-06-23-agent/"
      ],
      "metadata": {
        "id": "C1gVIaNXdpNy"
      }
    },
    {
      "cell_type": "markdown",
      "source": [
        "# **Indexing**"
      ],
      "metadata": {
        "id": "1woZNstkgFhx"
      }
    },
    {
      "cell_type": "code",
      "source": [
        "!pip install beautifulsoup4"
      ],
      "metadata": {
        "colab": {
          "base_uri": "https://localhost:8080/"
        },
        "id": "VsQ5qP56gtM8",
        "outputId": "22c32b5a-de37-4846-ec81-be8fcd99bc23"
      },
      "execution_count": null,
      "outputs": [
        {
          "output_type": "stream",
          "name": "stdout",
          "text": [
            "Requirement already satisfied: beautifulsoup4 in /usr/local/lib/python3.11/dist-packages (4.13.4)\n",
            "Requirement already satisfied: soupsieve>1.2 in /usr/local/lib/python3.11/dist-packages (from beautifulsoup4) (2.7)\n",
            "Requirement already satisfied: typing-extensions>=4.0.0 in /usr/local/lib/python3.11/dist-packages (from beautifulsoup4) (4.14.0)\n"
          ]
        }
      ]
    },
    {
      "cell_type": "code",
      "source": [
        "import bs4\n",
        "from langchain_community.document_loaders import WebBaseLoader\n",
        "\n",
        "# Only keep post title, headers, and content from the full HTML\n",
        "bs4_strainer = bs4.SoupStrainer(class_=(\"post-title\", \"post-header\", \"post-content\"))\n",
        "loader = WebBaseLoader(\n",
        "    web_paths=(\"https://lilianweng.github.io/posts/2023-06-23-agent/\",),\n",
        "    bs_kwargs={\"parse_only\": bs4_strainer},\n",
        ")\n",
        "docs = loader.load()\n",
        "\n",
        "assert len(docs) == 1\n",
        "print(f\"Total characters: {len(docs[0].page_content)}\")\n"
      ],
      "metadata": {
        "colab": {
          "base_uri": "https://localhost:8080/"
        },
        "id": "OvZ7tNVNdobr",
        "outputId": "cecb3d88-f9da-4348-8f9e-334edde251a8"
      },
      "execution_count": null,
      "outputs": [
        {
          "output_type": "stream",
          "name": "stderr",
          "text": [
            "WARNING:langchain_community.utils.user_agent:USER_AGENT environment variable not set, consider setting it to identify your requests.\n"
          ]
        },
        {
          "output_type": "stream",
          "name": "stdout",
          "text": [
            "Total characters: 43047\n"
          ]
        }
      ]
    },
    {
      "cell_type": "code",
      "source": [
        "print(docs[0].page_content[:500])"
      ],
      "metadata": {
        "colab": {
          "base_uri": "https://localhost:8080/"
        },
        "id": "boIFoenVjAZ1",
        "outputId": "168a6386-7b2a-4e9a-d589-f91d0adb1f41"
      },
      "execution_count": null,
      "outputs": [
        {
          "output_type": "stream",
          "name": "stdout",
          "text": [
            "\n",
            "\n",
            "      LLM Powered Autonomous Agents\n",
            "    \n",
            "Date: June 23, 2023  |  Estimated Reading Time: 31 min  |  Author: Lilian Weng\n",
            "\n",
            "\n",
            "Building agents with LLM (large language model) as its core controller is a cool concept. Several proof-of-concepts demos, such as AutoGPT, GPT-Engineer and BabyAGI, serve as inspiring examples. The potentiality of LLM extends beyond generating well-written copies, stories, essays and programs; it can be framed as a powerful general problem solver.\n",
            "Agent System Overview#\n",
            "In\n"
          ]
        }
      ]
    },
    {
      "cell_type": "code",
      "source": [
        "from langchain_text_splitters import RecursiveCharacterTextSplitter\n",
        "\n",
        "text_splitter = RecursiveCharacterTextSplitter(\n",
        "    chunk_size = 1000, # chunk size (characters)\n",
        "    chunk_overlap = 200, # chunk overlap (characters)\n",
        "    add_start_index = True, # track index in original document\n",
        ")\n",
        "all_splits = text_splitter.split_documents(docs)\n",
        "\n",
        "print(f\"Split blog post into {len(all_splits)} sub_documents.\")"
      ],
      "metadata": {
        "colab": {
          "base_uri": "https://localhost:8080/"
        },
        "id": "I5j8QLWyl8Dp",
        "outputId": "1c2bf8c0-d061-4d97-aa08-68e42dea0d48"
      },
      "execution_count": null,
      "outputs": [
        {
          "output_type": "stream",
          "name": "stdout",
          "text": [
            "Split blog post into 63 sub_documents.\n"
          ]
        }
      ]
    },
    {
      "cell_type": "code",
      "source": [
        "document_ids = vector_store.add_documents(documents=all_splits)\n",
        "\n",
        "print(document_ids[:3])"
      ],
      "metadata": {
        "colab": {
          "base_uri": "https://localhost:8080/"
        },
        "id": "JlthoJB1yjkK",
        "outputId": "68148eee-59c2-4f68-f461-f215ba06c1f4"
      },
      "execution_count": null,
      "outputs": [
        {
          "output_type": "stream",
          "name": "stdout",
          "text": [
            "['37271492-dd2e-40d8-9378-d06cf5bf4a3c', '86ee8c2a-6f98-4246-80f5-f3d5c39f0c6b', '5025ed08-f2bb-44f2-9222-2ed4cfbf9cd1']\n"
          ]
        }
      ]
    },
    {
      "cell_type": "markdown",
      "source": [
        "# **Retrieval and Generation**"
      ],
      "metadata": {
        "id": "19UBTPPH0C97"
      }
    },
    {
      "cell_type": "markdown",
      "source": [
        "https://smith.langchain.com/hub/rlm/rag-prompt\n",
        "\n",
        "\"You are an assistant for question-answering tasks. Use the following pieces of retrieved context to answer the question. If you don't know the answer, just say that you don't know. Use three sentences maximum and keep the answer concise.\n",
        "Question: {question}\n",
        "Context: {context}\n",
        "Answer:\n",
        "\""
      ],
      "metadata": {
        "id": "i3MmIVuD1GSE"
      }
    },
    {
      "cell_type": "code",
      "source": [
        "from langchain import hub\n",
        "\n",
        "prompt = hub.pull(\"rlm/rag-prompt\")\n",
        "\n",
        "example_messages = prompt.invoke(\n",
        "    {\"context\": \"(context goes here)\", \"question\": \"(question goes here)\"}\n",
        ").to_messages()\n",
        "\n",
        "assert len(example_messages) == 1\n",
        "print(example_messages[0].content)"
      ],
      "metadata": {
        "colab": {
          "base_uri": "https://localhost:8080/"
        },
        "id": "7BYKUFnF0B09",
        "outputId": "90c035b4-986f-4a82-93da-2522563d6d47"
      },
      "execution_count": null,
      "outputs": [
        {
          "output_type": "stream",
          "name": "stdout",
          "text": [
            "You are an assistant for question-answering tasks. Use the following pieces of retrieved context to answer the question. If you don't know the answer, just say that you don't know. Use three sentences maximum and keep the answer concise.\n",
            "Question: (question goes here) \n",
            "Context: (context goes here) \n",
            "Answer:\n"
          ]
        }
      ]
    },
    {
      "cell_type": "markdown",
      "source": [
        "`TypedDict` is used for type checking and auto complete purposes"
      ],
      "metadata": {
        "id": "bEeoxa0h658O"
      }
    },
    {
      "cell_type": "code",
      "source": [
        "from langchain_core.documents import Document\n",
        "from typing_extensions import List, TypedDict\n",
        "\n",
        "class State(TypedDict):\n",
        "  question: str\n",
        "  context: List[Document]\n",
        "  answer: str"
      ],
      "metadata": {
        "id": "M1iD6OV51KM_"
      },
      "execution_count": null,
      "outputs": []
    },
    {
      "cell_type": "code",
      "source": [
        "def retrieve(state: State):\n",
        "  # print(\"State before RETRIEVE\")\n",
        "  # print(state)\n",
        "  retrieved_docs = vector_store.similarity_search(state[\"question\"])\n",
        "  return {\"context\": retrieved_docs}\n",
        "\n",
        "def generate(state: State):\n",
        "  # print(\"State before GENERATE\")\n",
        "  # print(state)\n",
        "  docs_content = \"\\n\\n\".join(doc.page_content for doc in state[\"context\"])\n",
        "  messages = prompt.invoke({\"question\": state[\"question\"], \"context\": docs_content})\n",
        "  response = llm.invoke(messages)\n",
        "  return {\"answer\": response.content}"
      ],
      "metadata": {
        "id": "SdpHaCRy1FV8"
      },
      "execution_count": null,
      "outputs": []
    },
    {
      "cell_type": "markdown",
      "source": [
        "**Control Flow**"
      ],
      "metadata": {
        "id": "DLXmXy2L_qpL"
      }
    },
    {
      "cell_type": "code",
      "source": [
        "from langgraph.graph import START, StateGraph\n",
        "\n",
        "graph_builder = StateGraph(State).add_sequence([retrieve, generate])\n",
        "graph_builder.add_edge(START, \"retrieve\")\n",
        "graph = graph_builder.compile()"
      ],
      "metadata": {
        "id": "_q49buoj_u6I"
      },
      "execution_count": null,
      "outputs": []
    },
    {
      "cell_type": "code",
      "source": [
        "from IPython.display import Image, display\n",
        "\n",
        "display(Image(graph.get_graph().draw_mermaid_png()))"
      ],
      "metadata": {
        "colab": {
          "base_uri": "https://localhost:8080/",
          "height": 350
        },
        "id": "eI6geJeUFSD6",
        "outputId": "cb4704c6-aea8-4339-96fd-9859a6ad6798"
      },
      "execution_count": null,
      "outputs": [
        {
          "output_type": "display_data",
          "data": {
            "image/png": "[encoded data removed]",
            "text/plain": [
              "<IPython.core.display.Image object>"
            ]
          },
          "metadata": {}
        }
      ]
    },
    {
      "cell_type": "markdown",
      "source": [
        "**Usage**"
      ],
      "metadata": {
        "id": "8nW6KpCoFoCH"
      }
    },
    {
      "cell_type": "code",
      "source": [
        "result = graph.invoke({\"question\": \"What is Task Decomposition?\"})\n",
        "\n",
        "print(f'Context: {result[\"context\"]}\\n\\n')\n",
        "print(f'Answer: {result[\"answer\"]}')"
      ],
      "metadata": {
        "colab": {
          "base_uri": "https://localhost:8080/"
        },
        "id": "-6o7aTzzFrgD",
        "outputId": "5526522c-e95c-42f7-d379-f1749834bc70"
      },
      "execution_count": null,
      "outputs": [
        {
          "output_type": "stream",
          "name": "stdout",
          "text": [
            "Context: [Document(id='d1ae2fa4-14c5-4a64-aab4-730a7ee63183', metadata={'source': 'https://lilianweng.github.io/posts/2023-06-23-agent/', 'start_index': 2578}, page_content='Task decomposition can be done (1) by LLM with simple prompting like \"Steps for XYZ.\\\\n1.\", \"What are the subgoals for achieving XYZ?\", (2) by using task-specific instructions; e.g. \"Write a story outline.\" for writing a novel, or (3) with human inputs.\\nAnother quite distinct approach, LLM+P (Liu et al. 2023), involves relying on an external classical planner to do long-horizon planning. This approach utilizes the Planning Domain Definition Language (PDDL) as an intermediate interface to describe the planning problem. In this process, LLM (1) translates the problem into “Problem PDDL”, then (2) requests a classical planner to generate a PDDL plan based on an existing “Domain PDDL”, and finally (3) translates the PDDL plan back into natural language. Essentially, the planning step is outsourced to an external tool, assuming the availability of domain-specific PDDL and a suitable planner which is common in certain robotic setups but not in many other domains.\\nSelf-Reflection#'), Document(id='5025ed08-f2bb-44f2-9222-2ed4cfbf9cd1', metadata={'source': 'https://lilianweng.github.io/posts/2023-06-23-agent/', 'start_index': 1638}, page_content='Component One: Planning#\\nA complicated task usually involves many steps. An agent needs to know what they are and plan ahead.\\nTask Decomposition#\\nChain of thought (CoT; Wei et al. 2022) has become a standard prompting technique for enhancing model performance on complex tasks. The model is instructed to “think step by step” to utilize more test-time computation to decompose hard tasks into smaller and simpler steps. CoT transforms big tasks into multiple manageable tasks and shed lights into an interpretation of the model’s thinking process.\\nTree of Thoughts (Yao et al. 2023) extends CoT by exploring multiple reasoning possibilities at each step. It first decomposes the problem into multiple thought steps and generates multiple thoughts per step, creating a tree structure. The search process can be BFS (breadth-first search) or DFS (depth-first search) with each state evaluated by a classifier (via a prompt) or majority vote.'), Document(id='956d7093-9437-4602-8227-acbfa73c335b', metadata={'source': 'https://lilianweng.github.io/posts/2023-06-23-agent/', 'start_index': 19303}, page_content=\"(3) Task execution: Expert models execute on the specific tasks and log results.\\nInstruction:\\n\\nWith the input and the inference results, the AI assistant needs to describe the process and results. The previous stages can be formed as - User Input: {{ User Input }}, Task Planning: {{ Tasks }}, Model Selection: {{ Model Assignment }}, Task Execution: {{ Predictions }}. You must first answer the user's request in a straightforward manner. Then describe the task process and show your analysis and model inference results to the user in the first person. If inference results contain a file path, must tell the user the complete file path.\"), Document(id='57355423-e27a-4f84-8795-7924abe4d623', metadata={'source': 'https://lilianweng.github.io/posts/2023-06-23-agent/', 'start_index': 17352}, page_content='Illustration of how HuggingGPT works. (Image source: Shen et al. 2023)\\n\\nThe system comprises of 4 stages:\\n(1) Task planning: LLM works as the brain and parses the user requests into multiple tasks. There are four attributes associated with each task: task type, ID, dependencies, and arguments. They use few-shot examples to guide LLM to do task parsing and planning.\\nInstruction:')]\n",
            "\n",
            "\n",
            "Answer: Task Decomposition is the process of breaking down a complex task into smaller, more manageable steps. This can be done using various techniques, such as simple prompting, task-specific instructions, or human inputs.\n"
          ]
        }
      ]
    },
    {
      "cell_type": "code",
      "source": [
        "print(type(result))"
      ],
      "metadata": {
        "colab": {
          "base_uri": "https://localhost:8080/"
        },
        "id": "YHaxgkBDHtMC",
        "outputId": "e9961997-bbef-4e58-9972-e53c9e13bb5e"
      },
      "execution_count": null,
      "outputs": [
        {
          "output_type": "stream",
          "name": "stdout",
          "text": [
            "<class 'langgraph.pregel.io.AddableValuesDict'>\n"
          ]
        }
      ]
    },
    {
      "cell_type": "markdown",
      "source": [
        "**Stream Steps**"
      ],
      "metadata": {
        "id": "zifgaQIsIyKL"
      }
    },
    {
      "cell_type": "code",
      "source": [
        "for step in graph.stream(\n",
        "    {\"question\": \"What is Task Decomposition?\"}, stream_mode=\"updates\"\n",
        "):\n",
        "  print(f\"{step}\\n\\n-----------------------\\n\")"
      ],
      "metadata": {
        "colab": {
          "base_uri": "https://localhost:8080/"
        },
        "id": "39gjfMOSIxpY",
        "outputId": "a3d5e47d-1e83-40e9-b5e5-3bca1153798d"
      },
      "execution_count": null,
      "outputs": [
        {
          "output_type": "stream",
          "name": "stdout",
          "text": [
            "{'retrieve': {'context': [Document(id='d1ae2fa4-14c5-4a64-aab4-730a7ee63183', metadata={'source': 'https://lilianweng.github.io/posts/2023-06-23-agent/', 'start_index': 2578}, page_content='Task decomposition can be done (1) by LLM with simple prompting like \"Steps for XYZ.\\\\n1.\", \"What are the subgoals for achieving XYZ?\", (2) by using task-specific instructions; e.g. \"Write a story outline.\" for writing a novel, or (3) with human inputs.\\nAnother quite distinct approach, LLM+P (Liu et al. 2023), involves relying on an external classical planner to do long-horizon planning. This approach utilizes the Planning Domain Definition Language (PDDL) as an intermediate interface to describe the planning problem. In this process, LLM (1) translates the problem into “Problem PDDL”, then (2) requests a classical planner to generate a PDDL plan based on an existing “Domain PDDL”, and finally (3) translates the PDDL plan back into natural language. Essentially, the planning step is outsourced to an external tool, assuming the availability of domain-specific PDDL and a suitable planner which is common in certain robotic setups but not in many other domains.\\nSelf-Reflection#'), Document(id='5025ed08-f2bb-44f2-9222-2ed4cfbf9cd1', metadata={'source': 'https://lilianweng.github.io/posts/2023-06-23-agent/', 'start_index': 1638}, page_content='Component One: Planning#\\nA complicated task usually involves many steps. An agent needs to know what they are and plan ahead.\\nTask Decomposition#\\nChain of thought (CoT; Wei et al. 2022) has become a standard prompting technique for enhancing model performance on complex tasks. The model is instructed to “think step by step” to utilize more test-time computation to decompose hard tasks into smaller and simpler steps. CoT transforms big tasks into multiple manageable tasks and shed lights into an interpretation of the model’s thinking process.\\nTree of Thoughts (Yao et al. 2023) extends CoT by exploring multiple reasoning possibilities at each step. It first decomposes the problem into multiple thought steps and generates multiple thoughts per step, creating a tree structure. The search process can be BFS (breadth-first search) or DFS (depth-first search) with each state evaluated by a classifier (via a prompt) or majority vote.'), Document(id='956d7093-9437-4602-8227-acbfa73c335b', metadata={'source': 'https://lilianweng.github.io/posts/2023-06-23-agent/', 'start_index': 19303}, page_content=\"(3) Task execution: Expert models execute on the specific tasks and log results.\\nInstruction:\\n\\nWith the input and the inference results, the AI assistant needs to describe the process and results. The previous stages can be formed as - User Input: {{ User Input }}, Task Planning: {{ Tasks }}, Model Selection: {{ Model Assignment }}, Task Execution: {{ Predictions }}. You must first answer the user's request in a straightforward manner. Then describe the task process and show your analysis and model inference results to the user in the first person. If inference results contain a file path, must tell the user the complete file path.\"), Document(id='57355423-e27a-4f84-8795-7924abe4d623', metadata={'source': 'https://lilianweng.github.io/posts/2023-06-23-agent/', 'start_index': 17352}, page_content='Illustration of how HuggingGPT works. (Image source: Shen et al. 2023)\\n\\nThe system comprises of 4 stages:\\n(1) Task planning: LLM works as the brain and parses the user requests into multiple tasks. There are four attributes associated with each task: task type, ID, dependencies, and arguments. They use few-shot examples to guide LLM to do task parsing and planning.\\nInstruction:')]}}\n",
            "\n",
            "-----------------------\n",
            "\n",
            "{'generate': {'answer': 'Task Decomposition is a process where a complex task is broken down into smaller and simpler subtasks to facilitate planning and execution. This can be done using techniques such as simple prompting, task-specific instructions, or human inputs.'}}\n",
            "\n",
            "-----------------------\n",
            "\n"
          ]
        }
      ]
    }
  ]
}
